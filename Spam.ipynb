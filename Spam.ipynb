{
 "cells": [
  {
   "cell_type": "markdown",
   "metadata": {},
   "source": [
    "# Machine Learning Project\n",
    "---\n",
    "## Final Year Major Project\n",
    "---\n",
    "\n",
    "## Spam Email Detection \n",
    "\n",
    "### Project Members: Rakesh Gupta,Shivam Srivastava,Shubham Saurabh, Shubham Kumar."
   ]
  },
  {
   "cell_type": "code",
   "execution_count": 1,
   "metadata": {},
   "outputs": [],
   "source": [
    "import nltk.classify.util\n",
    "from nltk.classify import NaiveBayesClassifier\n",
    "from nltk.corpus import stopwords\n",
    "from nltk.tokenize import word_tokenize\n",
    "import os\n",
    "import random"
   ]
  },
  {
   "cell_type": "markdown",
   "metadata": {},
   "source": [
    "The Data set is taken from here: http://www.aueb.gr/users/ion/data/enron-spam/"
   ]
  },
  {
   "cell_type": "code",
   "execution_count": 2,
   "metadata": {},
   "outputs": [],
   "source": [
    "rootdir = \"C:\\\\Users\\\\UserPriority\\\\Desktop\\\\Spam\\\\Enron\""
   ]
  },
  {
   "cell_type": "code",
   "execution_count": 3,
   "metadata": {},
   "outputs": [
    {
     "name": "stdout",
     "output_type": "stream",
     "text": [
      "C:\\Users\\UserPriority\\Desktop\\Spam\\Enron ['enron1', 'enron2', 'enron3', 'enron4', 'enron5', 'enron6'] 0\n",
      "C:\\Users\\UserPriority\\Desktop\\Spam\\Enron\\enron1 ['ham', 'spam'] 1\n",
      "C:\\Users\\UserPriority\\Desktop\\Spam\\Enron\\enron1\\ham [] 3672\n",
      "C:\\Users\\UserPriority\\Desktop\\Spam\\Enron\\enron1\\spam [] 1500\n",
      "C:\\Users\\UserPriority\\Desktop\\Spam\\Enron\\enron2 ['ham', 'spam'] 1\n",
      "C:\\Users\\UserPriority\\Desktop\\Spam\\Enron\\enron2\\ham [] 4361\n",
      "C:\\Users\\UserPriority\\Desktop\\Spam\\Enron\\enron2\\spam [] 1496\n",
      "C:\\Users\\UserPriority\\Desktop\\Spam\\Enron\\enron3 ['ham', 'spam'] 1\n",
      "C:\\Users\\UserPriority\\Desktop\\Spam\\Enron\\enron3\\ham [] 4012\n",
      "C:\\Users\\UserPriority\\Desktop\\Spam\\Enron\\enron3\\spam [] 1500\n",
      "C:\\Users\\UserPriority\\Desktop\\Spam\\Enron\\enron4 ['ham', 'spam'] 1\n",
      "C:\\Users\\UserPriority\\Desktop\\Spam\\Enron\\enron4\\ham [] 1500\n",
      "C:\\Users\\UserPriority\\Desktop\\Spam\\Enron\\enron4\\spam [] 4500\n",
      "C:\\Users\\UserPriority\\Desktop\\Spam\\Enron\\enron5 ['ham', 'spam'] 1\n",
      "C:\\Users\\UserPriority\\Desktop\\Spam\\Enron\\enron5\\ham [] 1500\n",
      "C:\\Users\\UserPriority\\Desktop\\Spam\\Enron\\enron5\\spam [] 3675\n",
      "C:\\Users\\UserPriority\\Desktop\\Spam\\Enron\\enron6 ['ham', 'spam'] 1\n",
      "C:\\Users\\UserPriority\\Desktop\\Spam\\Enron\\enron6\\ham [] 1500\n",
      "C:\\Users\\UserPriority\\Desktop\\Spam\\Enron\\enron6\\spam [] 4500\n"
     ]
    }
   ],
   "source": [
    "# Loop through all the directories, sub directories and files in the above folder, and print them.\n",
    "# For files, print number of files.\n",
    "\n",
    "for directories, subdirs, files in os.walk(rootdir):\n",
    "    print(directories, subdirs, len(files))"
   ]
  },
  {
   "cell_type": "code",
   "execution_count": 4,
   "metadata": {},
   "outputs": [
    {
     "name": "stdout",
     "output_type": "stream",
     "text": [
      "('C:\\\\Users\\\\IT Guy\\\\Desktop\\\\Main\\\\first\\\\Enron\\\\enron1', 'ham')\n",
      "C:\\Users\\IT Guy\\Desktop\\Main\\first\\Enron\\enron1\n",
      "ham\n"
     ]
    }
   ],
   "source": [
    "print(os.path.split(\"C:\\\\Users\\\\IT Guy\\\\Desktop\\\\Main\\\\first\\\\Enron\\\\enron1\\\\ham\"))\n",
    "print(os.path.split(\"C:\\\\Users\\\\IT Guy\\\\Desktop\\\\Main\\\\first\\\\Enron\\\\enron1\\\\ham\")[0])\n",
    "print(os.path.split(\"C:\\\\Users\\\\IT Guy\\\\Desktop\\\\Main\\\\first\\\\Enron\\\\enron1\\\\ham\")[1])\n"
   ]
  },
  {
   "cell_type": "code",
   "execution_count": 5,
   "metadata": {},
   "outputs": [
    {
     "name": "stdout",
     "output_type": "stream",
     "text": [
      "C:\\Users\\UserPriority\\Desktop\\Spam\\Enron\\enron1\\ham [] 3672\n",
      "C:\\Users\\UserPriority\\Desktop\\Spam\\Enron\\enron1\\spam [] 1500\n",
      "C:\\Users\\UserPriority\\Desktop\\Spam\\Enron\\enron2\\ham [] 4361\n",
      "C:\\Users\\UserPriority\\Desktop\\Spam\\Enron\\enron2\\spam [] 1496\n",
      "C:\\Users\\UserPriority\\Desktop\\Spam\\Enron\\enron3\\ham [] 4012\n",
      "C:\\Users\\UserPriority\\Desktop\\Spam\\Enron\\enron3\\spam [] 1500\n",
      "C:\\Users\\UserPriority\\Desktop\\Spam\\Enron\\enron4\\ham [] 1500\n",
      "C:\\Users\\UserPriority\\Desktop\\Spam\\Enron\\enron4\\spam [] 4500\n",
      "C:\\Users\\UserPriority\\Desktop\\Spam\\Enron\\enron5\\ham [] 1500\n",
      "C:\\Users\\UserPriority\\Desktop\\Spam\\Enron\\enron5\\spam [] 3675\n",
      "C:\\Users\\UserPriority\\Desktop\\Spam\\Enron\\enron6\\ham [] 1500\n",
      "C:\\Users\\UserPriority\\Desktop\\Spam\\Enron\\enron6\\spam [] 4500\n"
     ]
    }
   ],
   "source": [
    "# Same as before, but only print the ham and spam folders\n",
    "for directories, subdirs, files in os.walk(rootdir):\n",
    "    if (os.path.split(directories)[1]  == 'ham'):\n",
    "        print(directories, subdirs, len(files))\n",
    "    \n",
    "    if (os.path.split(directories)[1]  == 'spam'):\n",
    "        print(directories, subdirs, len(files))"
   ]
  },
  {
   "cell_type": "code",
   "execution_count": 6,
   "metadata": {},
   "outputs": [
    {
     "name": "stdout",
     "output_type": "stream",
     "text": [
      "Subject: christmas tree farm pictures\n",
      "\n",
      "Subject: dobmeos with hgh my energy level has gone up ! stukm\n",
      "introducing\n",
      "doctor - formulated\n",
      "hgh\n",
      "human growth hormone - also called hgh\n",
      "is referred to in medical science as the master hormone . it is very plentiful\n",
      "when we are young , but near the age of twenty - one our bodies begin to produce\n",
      "less of it . by the time we are forty nearly everyone is deficient in hgh ,\n",
      "and at eighty our production has normally diminished at least 90 - 95 % .\n",
      "advantages of hgh :\n",
      "- increased muscle strength\n",
      "- loss in body fat\n",
      "- increased bone density\n",
      "- lower blood pressure\n",
      "- quickens wound healing\n",
      "- reduces cellulite\n",
      "- improved vision\n",
      "- wrinkle disappearance\n",
      "- increased skin thickness texture\n",
      "- increased energy levels\n",
      "- improved sleep and emotional stability\n",
      "- improved memory and mental alertness\n",
      "- increased sexual potency\n",
      "- resistance to common illness\n",
      "- strengthened heart muscle\n",
      "- controlled cholesterol\n",
      "- controlled mood swings\n",
      "- new hair growth and color restore\n",
      "read\n",
      "more at this website\n",
      "unsubscribe\n",
      "\n"
     ]
    }
   ],
   "source": [
    "ham_list = []\n",
    "spam_list = []\n",
    "\n",
    "# Same as before, but this time, read the files, and appending them to the ham and spam list\n",
    "for directories, subdirs, files in os.walk(rootdir):\n",
    "    if (os.path.split(directories)[1]  == 'ham'):\n",
    "        for filename in files:      \n",
    "            with open(os.path.join(directories, filename), encoding=\"latin-1\") as f:\n",
    "                data = f.read()\n",
    "                ham_list.append(data)\n",
    "    \n",
    "    if (os.path.split(directories)[1]  == 'spam'):\n",
    "        for filename in files:\n",
    "            with open(os.path.join(directories, filename), encoding=\"latin-1\") as f:\n",
    "                data = f.read()\n",
    "                spam_list.append(data)\n",
    "\n",
    "\n",
    "print(ham_list[0])\n",
    "print(spam_list[0])"
   ]
  },
  {
   "cell_type": "code",
   "execution_count": 7,
   "metadata": {},
   "outputs": [
    {
     "data": {
      "text/plain": [
       "{'a': True, 'brown': True, 'fox': True, 'quick': True, 'the': True}"
      ]
     },
     "execution_count": 7,
     "metadata": {},
     "output_type": "execute_result"
    }
   ],
   "source": [
    "# A function , that when passed in words, will return a dictionary of the form\n",
    "# {Word1: True, Word2: True, Words3: True}\n",
    "# Removing stop words is optional\n",
    "\n",
    "def create_word_features(words):\n",
    "    my_dict = dict( [ (word, True) for word in words] )\n",
    "    return my_dict\n",
    "\n",
    "create_word_features([\"the\", \"quick\", \"brown\", \"quick\", \"a\", \"fox\"])"
   ]
  },
  {
   "cell_type": "code",
   "execution_count": 10,
   "metadata": {},
   "outputs": [
    {
     "name": "stdout",
     "output_type": "stream",
     "text": [
      "({'Subject': True, 'tree': True, 'christmas': True, 'farm': True, 'pictures': True, ':': True}, 'ham')\n",
      "({'when': True, 'healing': True, 'gone': True, 'quickens': True, 'time': True, 'emotional': True, 'stukm': True, 'memory': True, 'read': True, 'my': True, 'wrinkle': True, 'of': True, 'hair': True, 'resistance': True, 'mental': True, 'illness': True, 'eighty': True, 'texture': True, 'sleep': True, 'this': True, 'stability': True, '90': True, 'pressure': True, '-': True, 'the': True, 'website': True, 'is': True, 'master': True, 'levels': True, 'loss': True, 'strength': True, 'by': True, 'new': True, ',': True, 'are': True, 'it': True, 'formulated': True, 'vision': True, 'deficient': True, 'forty': True, 'advantages': True, 'mood': True, 'at': True, 'we': True, 'normally': True, '!': True, 'near': True, 'twenty': True, 'cellulite': True, 'thickness': True, 'as': True, 'lower': True, 'potency': True, 'common': True, 'improved': True, 'sexual': True, 'introducing': True, 'in': True, 'skin': True, 'hormone': True, '.': True, 'up': True, 'energy': True, 'science': True, 'bodies': True, 'called': True, 'reduces': True, 'nearly': True, 'cholesterol': True, 'level': True, 'Subject': True, 'our': True, 'to': True, 'color': True, 'blood': True, 'also': True, 'more': True, 'very': True, 'muscle': True, 'age': True, 'disappearance': True, 'increased': True, 'swings': True, 'production': True, 'doctor': True, 'less': True, 'and': True, 'plentiful': True, 'everyone': True, 'but': True, 'one': True, 'restore': True, 'strengthened': True, 'least': True, 'with': True, 'human': True, 'bone': True, 'young': True, 'heart': True, 'controlled': True, 'alertness': True, 'wound': True, '%': True, 'unsubscribe': True, 'density': True, 'hgh': True, 'has': True, 'medical': True, 'referred': True, 'fat': True, 'diminished': True, ':': True, 'dobmeos': True, 'produce': True, 'growth': True, 'body': True, '95': True, 'begin': True}, 'spam')\n"
     ]
    }
   ],
   "source": [
    "ham_list = []\n",
    "spam_list = []\n",
    "\n",
    "# Same as before, but this time:\n",
    "\n",
    "# 1. Break the sentences into words using word_tokenize\n",
    "# 2. Use the create_word_features() function we just wrote\n",
    "for directories, subdirs, files in os.walk(rootdir):\n",
    "    if (os.path.split(directories)[1]  == 'ham'):\n",
    "        for filename in files:      \n",
    "            with open(os.path.join(directories, filename), encoding=\"latin-1\") as f:\n",
    "                data = f.read()\n",
    "                \n",
    "                # The data we read is one big string. We need to break it into words.\n",
    "                words = word_tokenize(data)\n",
    "                \n",
    "                ham_list.append((create_word_features(words), \"ham\"))\n",
    "    \n",
    "    if (os.path.split(directories)[1]  == 'spam'):\n",
    "        for filename in files:\n",
    "            with open(os.path.join(directories, filename), encoding=\"latin-1\") as f:\n",
    "                data = f.read()\n",
    "                \n",
    "                # The data we read is one big string. We need to break it into words.\n",
    "                words = word_tokenize(data)\n",
    "                \n",
    "                spam_list.append((create_word_features(words), \"spam\"))\n",
    "print(ham_list[0])\n",
    "print(spam_list[0])"
   ]
  },
  {
   "cell_type": "code",
   "execution_count": 11,
   "metadata": {},
   "outputs": [
    {
     "name": "stdout",
     "output_type": "stream",
     "text": [
      "33716\n"
     ]
    }
   ],
   "source": [
    "combined_list = ham_list + spam_list\n",
    "print(len(combined_list))\n",
    "\n",
    "random.shuffle(combined_list)"
   ]
  },
  {
   "cell_type": "code",
   "execution_count": 12,
   "metadata": {},
   "outputs": [
    {
     "name": "stdout",
     "output_type": "stream",
     "text": [
      "33716\n",
      "23601\n",
      "10115\n"
     ]
    }
   ],
   "source": [
    "# Creating a test and train section.\n",
    "# 70% of the data is training. 30% is test\n",
    "\n",
    "training_part = int(len(combined_list) * .7)\n",
    "print(len(combined_list))\n",
    "\n",
    "training_set = combined_list[:training_part]\n",
    "\n",
    "test_set =  combined_list[training_part:]\n",
    "\n",
    "print (len(training_set))\n",
    "print (len(test_set))"
   ]
  },
  {
   "cell_type": "code",
   "execution_count": 13,
   "metadata": {},
   "outputs": [
    {
     "name": "stdout",
     "output_type": "stream",
     "text": [
      "Accuracy is:  98.52694018783984\n"
     ]
    }
   ],
   "source": [
    "# Create the Naive Bayes filter\n",
    "\n",
    "classifier = NaiveBayesClassifier.train(training_set)\n",
    "\n",
    "# Find the accuracy, using the test data\n",
    "\n",
    "accuracy = nltk.classify.util.accuracy(classifier, test_set)\n",
    "\n",
    "print(\"Accuracy is: \", accuracy * 100)"
   ]
  },
  {
   "cell_type": "code",
   "execution_count": 14,
   "metadata": {},
   "outputs": [
    {
     "name": "stdout",
     "output_type": "stream",
     "text": [
      "Most Informative Features\n",
      "                     php = True             spam : ham    =    432.4 : 1.0\n",
      "                    meds = True             spam : ham    =    282.8 : 1.0\n",
      "                 stinson = True              ham : spam   =    271.2 : 1.0\n",
      "                     ect = True              ham : spam   =    253.1 : 1.0\n",
      "                     hpl = True              ham : spam   =    251.5 : 1.0\n",
      "                  louise = True              ham : spam   =    242.0 : 1.0\n",
      "              scheduling = True              ham : spam   =    209.0 : 1.0\n",
      "                     eol = True              ham : spam   =    202.3 : 1.0\n",
      "             medications = True             spam : ham    =    200.9 : 1.0\n",
      "                 parsing = True              ham : spam   =    199.9 : 1.0\n",
      "                     713 = True              ham : spam   =    171.9 : 1.0\n",
      "                     oem = True             spam : ham    =    164.8 : 1.0\n",
      "                   drugs = True             spam : ham    =    163.9 : 1.0\n",
      "                   daren = True              ham : spam   =    162.5 : 1.0\n",
      "               schedules = True              ham : spam   =    141.2 : 1.0\n",
      "                     sex = True             spam : ham    =    136.4 : 1.0\n",
      "                portland = True              ham : spam   =    134.5 : 1.0\n",
      "               forwarded = True              ham : spam   =    125.0 : 1.0\n",
      "                      xp = True             spam : ham    =    123.7 : 1.0\n",
      "                     mai = True             spam : ham    =    119.0 : 1.0\n"
     ]
    }
   ],
   "source": [
    "classifier.show_most_informative_features(20)"
   ]
  },
  {
   "cell_type": "code",
   "execution_count": 15,
   "metadata": {},
   "outputs": [],
   "source": [
    "# Clasify the below as spam or ham\n",
    "\n",
    "# Hint: 1. Break into words using word_tokenzise\n",
    "# 2. create_word_features\n",
    "# 3. Use the classify function\n",
    "\n",
    "msg1 = '''Hello th̓ere master :-)\n",
    "i need ck ri͏ght noِw ..͏. don't tell my hǔbbٚy.ٚ. ))\n",
    "My sc͕rٞeٚe̻nname is Dorry.\n",
    "My accֺo֔unt is h֯ere: http:nxusxbnd.GirlsBadoo.ru\n",
    "C u late٘r!'''\n",
    "\n",
    "\n",
    "msg2 = '''As one of our top customers we are providing 10% OFF the total of your next used book purchase from www.letthestoriesliveon.com. Please use the promotional code, TOPTENOFF at checkout. Limited to 1 use per customer. All books have free shipping within the contiguous 48 United States and there is no minimum purchase.\n",
    "\n",
    "We have millions of used books in stock that are up to 90% off MRSP and add tens of thousands of new items every day. Don’t forget to check back frequently for new arrivals.'''\n",
    "\n",
    "\n",
    "\n",
    "msg3 = '''To start off, I have a 6 new videos + transcripts in the members section. In it, we analyse the Enron email dataset, half a million files, spread over 2.5GB. It's about 1.5 hours of  video.\n",
    "\n",
    "I have also created a Conda environment for running the code (both free and member lessons). This is to ensure everyone is running the same version of libraries, preventing the Works on my machine problems. If you get a second, do you mind trying it here?'''\n",
    "\n"
   ]
  },
  {
   "cell_type": "code",
   "execution_count": 16,
   "metadata": {},
   "outputs": [
    {
     "name": "stdout",
     "output_type": "stream",
     "text": [
      "Message 1 is : spam\n"
     ]
    }
   ],
   "source": [
    "words = word_tokenize(msg1)\n",
    "features = create_word_features(words)\n",
    "print(\"Message 1 is :\" ,classifier.classify(features))"
   ]
  },
  {
   "cell_type": "code",
   "execution_count": 17,
   "metadata": {},
   "outputs": [
    {
     "name": "stdout",
     "output_type": "stream",
     "text": [
      "Message 2 is : spam\n"
     ]
    }
   ],
   "source": [
    "words = word_tokenize(msg2)\n",
    "features = create_word_features(words)\n",
    "print(\"Message 2 is :\" ,classifier.classify(features))"
   ]
  },
  {
   "cell_type": "code",
   "execution_count": 18,
   "metadata": {},
   "outputs": [
    {
     "name": "stdout",
     "output_type": "stream",
     "text": [
      "Message 3 is : ham\n"
     ]
    }
   ],
   "source": [
    "words = word_tokenize(msg3)\n",
    "features = create_word_features(words)\n",
    "print(\"Message 3 is :\" ,classifier.classify(features))"
   ]
  },
  {
   "cell_type": "markdown",
   "metadata": {},
   "source": [
    "## Email processing"
   ]
  },
  {
   "cell_type": "code",
   "execution_count": null,
   "metadata": {},
   "outputs": [],
   "source": []
  },
  {
   "cell_type": "code",
   "execution_count": 18,
   "metadata": {},
   "outputs": [],
   "source": [
    "# Famous Spam text is the following 68-byte string\n",
    "# XJS*C4JDBQADN1.NSBN3*2IDNEN*GTUBE-STANDARD-ANTI-UBE-TEST-EMAIL*C.34X =="
   ]
  },
  {
   "cell_type": "code",
   "execution_count": 17,
   "metadata": {},
   "outputs": [],
   "source": [
    "import imaplib\n",
    "import email\n",
    "from bs4 import BeautifulSoup"
   ]
  },
  {
   "cell_type": "code",
   "execution_count": 18,
   "metadata": {},
   "outputs": [],
   "source": [
    "username = 'er3shivam@gmail.com'\n",
    "password = 'hello\"world'"
   ]
  },
  {
   "cell_type": "code",
   "execution_count": 20,
   "metadata": {},
   "outputs": [
    {
     "data": {
      "text/plain": [
       "('OK', [b'11'])"
      ]
     },
     "execution_count": 20,
     "metadata": {},
     "output_type": "execute_result"
    }
   ],
   "source": [
    "mail = imaplib.IMAP4_SSL(\"imap.gmail.com\")\n",
    "mail.login(username,password)\n",
    "mail.select(\"inbox\")"
   ]
  },
  {
   "cell_type": "code",
   "execution_count": 21,
   "metadata": {},
   "outputs": [],
   "source": [
    "result,data = mail.uid('search', None, \"ALL\")\n",
    "inbox_item_list = data[0].split()\n",
    "\n",
    "most_recent = inbox_item_list[-1]\n",
    "oldest = inbox_item_list[0]"
   ]
  },
  {
   "cell_type": "code",
   "execution_count": 22,
   "metadata": {},
   "outputs": [
    {
     "name": "stdout",
     "output_type": "stream",
     "text": [
      "['Subject THE ASTON WEBMAIL SUPPORT TEAM hi\\nXJS*C4JDBQADN1.NSBN3*2IDNEN*GTUBE-STANDARD-ANTI-UBE-TEST-EMAIL*C.34X<=\\r\\n/span>\\r\\n\\r\\n\\n\\n', 'Subject verify your aston university account security alert !!!!Aston un=\\r\\niverisity student webmail user,to continue acessi=\\r\\nng your aston university account, you must reply to thisplease enter your username here ***** and password here *******\\n', 'Subject Some project help hi shivam,I needed a help in my ongoing project. Can you teach me python.Thanks.\\n', 'Subject JobSearch information letter (ref. 3792idiot) Dear recipient,Avangar Technologies ann=\\r\\nounces the beginning of a new unprecendented global employment campaign.=C2=A0<=\\r\\nspan style=3D\"color:rgb(17,17,73);font-family:\"Times New Roman\";f=\\r\\nont-size:medium;font-style:normal;font-variant-ligatures:normal;font-varian=\\r\\nt-caps:normal;font-weight:400;letter-spacing:normal;text-align:start;text-i=\\r\\nndent:0px;text-transform:none;white-space:normal;word-spacing:0px;text-deco=\\r\\nration-style:initial;text-decoration-color:initial;float:none;display:inlin=\\r\\ne\">reviser yeller winers butchery twentiesDue to company\\'s exploding growth Avangar =\\r\\nis expanding business to the European region.During last employment campaign over 1500 p=\\r\\neople worldwide took part in Avangar\\'s businessand more than half of them are curren=\\r\\ntly employed by the company. And now we are offering youone more opportunity to earn ext=\\r\\nra money working with Avangar Technologies.<br style=3D\"color:rgb(17=\\r\\n,17,73);font-family:\"Times New Roman\";font-size:medium;font-style=\\r\\n:normal;font-variant-ligatures:normal;font-variant-caps:normal;font-weight:=\\r\\n400;letter-spacing:normal;text-align:start;text-indent:0px;text-transform:n=\\r\\none;white-space:normal;word-spacing:0px;text-decoration-style:initial;text-=\\r\\ndecoration-color:initial\">druggists blame classy gentry Aladdin<=\\r\\nbr style=3D\"color:rgb(17,17,73);font-family:\"Times New Roman\";fon=\\r\\nt-size:medium;font-style:normal;font-variant-ligatures:normal;font-variant-=\\r\\ncaps:normal;font-weight:400;letter-spacing:normal;text-align:start;text-ind=\\r\\nent:0px;text-transform:none;white-space:normal;word-spacing:0px;text-decora=\\r\\ntion-style:initial;text-decoration-color:initial\"><br style=3D\"color:rgb(17=\\r\\n,17,73);font-family:\"Times New Roman\";font-size:medium;font-style=\\r\\n:normal;font-variant-ligatures:normal;font-variant-caps:normal;font-weight:=\\r\\n400;letter-spacing:normal;text-align:start;text-indent:0px;text-transform:n=\\r\\none;white-space:normal;word-spacing:0px;text-decoration-style:initial;text-=\\r\\ndecoration-color:initial\">We are looking for honest, responsible, hard-=\\r\\nworking people that can dedicate 2-4 hours of theirtime per day and earn extra =C3=82=C2=\\r\\n=A3300-500 weekly. All offered positions are currently part-timeand give you a chance to=\\r\\n work mainly from home.lovelies hockey Malton meager reorderedPlease visit Avangar\\'s corporate web site (http://www.avangar.com/sta/home/0077.h=\\r\\ntm) for more details regarding these vacancies.\\n\\n', \"Subject AMATEUR TEEN WEBCAMS - FROM AROUND THE WORLD OR RIGHT NEXT DOOR FREE AM=\\r\\nATEUR WEBCAMS - Young Girls Perform from their Bedrooms!\\r\\n\\r\\n\\r\\nOpen Webcam Feeds - FREE - Join the Community!\\r\\n\\r\\n\\r\\nhttp://tableslegs.com/cr17/\\r\\n\\r\\n\\r\\nIt is truly incredible - People from all around the world are using\\r\\ntheir webcams to get off. Now is your chance to watch Men and women,\\r\\nboys and girls show off just for you. Best of all, it's FREE, LIVE\\r\\nand UN-F*CKING-BELIEVABLE. Either peep in on the sexy activity or\\r\\nparticipate with your own webcam! You've got to try this out!\\r\\n\\r\\n\\r\\nOpen Amateur Webcam Feeds are Active RIGHT NOW!!!\\n\\n\", 'Subject Project Work Hi,Please see the required =\\r\\nwork to be done on our machine learning project.Here is the link=\\r\\n to the project<=\\r\\ndiv>Link: www.google.comThanks\\n\\n', \"Subject Iot training SUMMER TRAINING PROGRAM 2018IoT- INTERNET OF THINGS(Advanced Fast Track - 2 Weeks / 4 =\\r\\nWeeks (60-70 Hours))(Venue: Delhi/NCR | Bangalore | Hyderabad | Chennai=\\r\\n)If you think that the internet has changed your life, =\\r\\nthink again. The IoT is about to change it all over again!=E2=80=9D -=C2=A0=\\r\\n=E2=80=94 Brendan O=E2=80=99Brien, Aria systemsWhen we talk abo=\\r\\nut an Internet of Thing, it=E2=80=99s not just putting RFID tags on some th=\\r\\ning is. It=E2=80=99s about embedding intelligence so things become smarter =\\r\\n& do more than they were proposed to do. Can you imagine a computing co=\\r\\nncept where everyday objects have network connectivity? Is it possible for =\\r\\nordinary devices to communicate among themselves?Yes!! And the answer is =E2=80=98The Inter=\\r\\nnet of Things=E2=80=99.Hello,Greetings from Innovians Technologie=\\r\\ns.We are glat to inform you that Innovians Te=\\r\\nchnologies is organizing two weeks=C2=A0Advanced FastTrack S=\\r\\nummer Training Program=C2=\\r\\n=A0on=C2=A0IoT- Internet of Things. We, Innovians Technologies (Unit of PRATS T=\\r\\nechnologies Pvt. Ltd.) provides workshop, training on various domains for d=\\r\\nifferent Engineering Branches on National as well as International Level. I=\\r\\nt is India's first extensive core technical training on IoT for Student=\\r\\ns.Objective of Training:=C2=A0The main objective of the =\\r\\ntraining is to make the aspiring engineers acquainted with the conceptual a=\\r\\ns well as practical knowledge of=C2=A0IoT- Internet of Things.=C2=A0It is one of the=C2=A0Latest Technology=C2=A0which is going to ch=\\r\\nange our lifestyle and the technology we use in coming years. It is an esti=\\r\\nmated that by 2020 approx 50 Billion electronics devices on this planet wil=\\r\\nl be connected to internet.=\\r\\n\\n\", 'Subject Fwd: rakeshg679, these HTML, PHP and Website Design projects and\\r\\n contests might interest you \\nRakesh\\n---------- Forwarded message ----------From:=\\r\\n \"Freelancer.com\" <noreply@notifications.freelancer.com>Date: 9 Apr 20=\\r\\n18 11:07 pmSubject: rakeshg679, these HTML, PHP and Website Design proj=\\r\\nects and contests might interest youTo:  <rakeshg679@gmail.com>Cc: =\\r\\n=\\r\\n\\r\\n                        Hi rakeshg679,\\r\\n                    \\r\\n                        Here are the latest projects and contests matching =\\r\\nyour profile and skills:\\r\\n                    \\r\\n                                        PROJECT DESCRIPTION\\r\\n                                    \\r\\n                                        BUDGET\\r\\n                                    N=\\r\\need to build a simple web app using Firebase and React / ongoing Project\\r\\n\\r\\n                                        =C2=A0\\r\\n\\r\\n                                       =20\\r\\n                                       =20\\r\\n                                       =20\\r\\n                                       =20\\r\\n                                       =20\\r\\n                                       =20\\r\\n\\r\\n                                        =C2=A0\\r\\n                                            Requirements Authentication/ Us=\\r\\ners(sign up, log in, profiles, search, etc.)  Database access (CRUD, search=\\r\\n, )  Email messages between users  Payment Gateway integration    Needs to =\\r\\nbe on Firebase, but front-end can be in\\r\\n                                           =20\\r\\n                                                ...\\r\\n                                                \\r\\n                                                    See more\\r\\n                                                =C2=A0Skills:\\r\\n\\r\\n                                           =20\\r\\n                                               =20\\r\\n                                                    Angular.js  |=20\\r\\n                                               =20\\r\\n                                                    Javascript  |=20\\r\\n                                               =20\\r\\n                                                    MySQL  |=20\\r\\n                                               =20\\r\\n                                                    React.js=20\\r\\n                                               =20\\r\\n                                           =20\\r\\n                                        \\r\\n                                            =E2=82=B9973 - =E2=82=B91621 IN=\\r\\nR /hr\\r\\n                                        =C2=A0\\r\\n                                                        Bid now\\r\\n                                                    <=\\r\\n/td>=\\r\\nNeed fixation in my Open Cart Custom Theme\\r\\n\\r\\n                                        =C2=A0\\r\\n\\r\\n                                       =20\\r\\n                                       =20\\r\\n                                       =20\\r\\n                                       =20\\r\\n                                       =20\\r\\n                                       =20\\r\\n\\r\\n                                        =C2=A0\\r\\n                                            Hello,   I am looking for PHP d=\\r\\neveloper who could work on Opencart Custom theme.   Developed Custom theme =\\r\\nand one module now my website has some problem.  1. Unable to Create /Updat=\\r\\ne Categories from Admin  2. Unable to U\\r\\n                                           =20\\r\\n                                                ...\\r\\n                                                \\r\\n                                                    See more\\r\\n                                                =C2=A0Skills:\\r\\n\\r\\n                                           =20\\r\\n                                               =20\\r\\n                                                    HTML  |=20\\r\\n                                               =20\\r\\n                                                    PHP  |=20\\r\\n                                               =20\\r\\n                                                    Website Design=20\\r\\n                                               =20\\r\\n                                           =20\\r\\n                                        \\r\\n                                            =E2=82=B91945 - =E2=82=B916211 =\\r\\nINR=20\\r\\n                                        =C2=A0\\r\\n                                                        Bid now\\r\\n                                                    <=\\r\\n/td>JavaFx Database project\\r\\n\\r\\n                                        =C2=A0\\r\\n\\r\\n                                       =20\\r\\n                                       =20\\r\\n                                       =20\\r\\n                                       =20\\r\\n                                       =20\\r\\n                                       =20\\r\\n\\r\\n                                        =C2=A0\\r\\n                                            Project    =EF=82=B7 Design and=\\r\\n develop a JavaFx based Application for a movie database providing appropri=\\r\\nate  UI controls for the following data:  =EF=82=B7 Movie Name  =EF=82=B7 I=\\r\\nSBN13 Number (optional)  =EF=82=B7 Release Date  =EF=82=B7 Location (Canadi=\\r\\nan O\\r\\n                                           =20\\r\\n                                                ...\\r\\n                                                \\r\\n                                                    See more\\r\\n                                                =C2=A0Skills:\\r\\n\\r\\n                                           =20\\r\\n                                               =20\\r\\n                                                    Database Programming  |=\\r\\n=20\\r\\n                                               =20\\r\\n                                                    Java  |=20\\r\\n                                               =20\\r\\n                                                    JavaFX  |=20\\r\\n                                               =20\\r\\n                                                    Software Architecture  =\\r\\n|=20\\r\\n                                               =20\\r\\n                                                    UML Design=20\\r\\n                                               =20\\r\\n                                           =20\\r\\n                                        \\r\\n                                            =E2=82=B9511 - =E2=82=B91532 IN=\\r\\nR=20\\r\\n                                        =C2=A0\\r\\n                                                        Bid now\\r\\n                                                    <=\\r\\n/td>Scritp!!!!!!\\r\\n\\r\\n                                        =C2=A0\\r\\n\\r\\n                                       =20\\r\\n                                       =20\\r\\n                                       =20\\r\\n                                       =20\\r\\n                                       =20\\r\\n                                       =20\\r\\n\\r\\n                                        =C2=A0\\r\\n                                            Hi  I need a script to play rou=\\r\\nlette  I want to winner every time i run the script  for example: after 5ti=\\r\\nmes lose i be winner\\r\\n                                           =20\\r\\n                                        =C2=A0Skills:\\r\\n\\r\\n                                           =20\\r\\n                                               =20\\r\\n                                                    HTML  |=20\\r\\n                                               =20\\r\\n                                                    Javascript  |=20\\r\\n                                               =20\\r\\n                                                    PHP  |=20\\r\\n                                               =20\\r\\n                                                    Python  |=20\\r\\n                                               =20\\r\\n                                                    Software Architecture=\\r\\n=20\\r\\n                                               =20\\r\\n                                           =20\\r\\n                                        \\r\\n                                            =E2=82=B91945 - =E2=82=B916211 =\\r\\nINR=20\\r\\n                                        =C2=A0\\r\\n                                                        Bid now\\r\\n                                                    <=\\r\\n/td>Codeigniter expert for my website.\\r\\n\\r\\n                                        =C2=A0\\r\\n\\r\\n                                       =20\\r\\n                                       =20\\r\\n                                       =20\\r\\n                                       =20\\r\\n                                       =20\\r\\n                                       =20\\r\\n\\r\\n                                        =C2=A0\\r\\n                                            I am looking for a professinal =\\r\\ncodeigniter developer.  Reference : [url removed, login to view]  I make a =\\r\\nwebsite for my small business similar to above website.  Please show me you=\\r\\nr past work.  If you are not pro,don\\'t bid and wa\\r\\n                                           =20\\r\\n                                                ...\\r\\n                                                \\r\\n                                                    See more\\r\\n                                                =C2=A0Skills:\\r\\n\\r\\n                                           =20\\r\\n                                               =20\\r\\n                                                    Codeigniter  |=20\\r\\n                                               =20\\r\\n                                                    Graphic Design  |=20\\r\\n                                               =20\\r\\n                                                    HTML  |=20\\r\\n                                               =20\\r\\n                                                    PHP  |=20\\r\\n                                               =20\\r\\n                                                    Website Design=20\\r\\n                                               =20\\r\\n                                           =20\\r\\n                                        \\r\\n                                            =E2=82=B916211 - =E2=82=B948634=\\r\\n INR=20\\r\\n                                        =C2=A0\\r\\n                                                        Bid now\\r\\n                                                    <=\\r\\n/td>Create a Function inside a firestore database using js\\r\\n\\r\\n                                        =C2=A0\\r\\n\\r\\n                                       =20\\r\\n                                       =20\\r\\n                                       =20\\r\\n                                       =20\\r\\n                                       =20\\r\\n                                       =20\\r\\n\\r\\n                                        =C2=A0\\r\\n                                            I want that one, create a Funct=\\r\\nion like trigger inside my firestore database.    I have a collection calle=\\r\\nd: Transactions  With multiple documents inside: (see img attached)    Docu=\\r\\nment keys are stored by me so there is=20\\r\\n                                           =20\\r\\n                                                ...\\r\\n                                                \\r\\n                                                    See more\\r\\n                                                =C2=A0Skills:\\r\\n\\r\\n                                           =20\\r\\n                                               =20\\r\\n                                                    Javascript  |=20\\r\\n                                               =20\\r\\n                                                    node.js=20\\r\\n                                               =20\\r\\n                                           =20\\r\\n                                        \\r\\n                                            =E2=82=B9648 - =E2=82=B91945 IN=\\r\\nR=20\\r\\n                                        =C2=A0\\r\\n                                                        Bid now\\r\\n                                                    <=\\r\\n/td>Concr=\\r\\nete 5 - Content Manager\\r\\n\\r\\n                                        =C2=A0\\r\\n\\r\\n                                       =20\\r\\n                                       =20\\r\\n                                       =20\\r\\n                                            =C2=A0\\r\\n                                            We started our new website with=\\r\\n Concrete 5 and need some assistance adding more content, video, images, et=\\r\\nc. The skeleton is already complete. All content will be provided, we just =\\r\\nneed someone to input it the info, move\\r\\n                                           =20\\r\\n                                                ...\\r\\n                                                \\r\\n                                                    See more\\r\\n                                                =C2=A0Skills:\\r\\n\\r\\n                                           =20\\r\\n                                               =20\\r\\n                                                    HTML  |=20\\r\\n                                               =20\\r\\n                                                    PHP  |=20\\r\\n                                               =20\\r\\n                                                    Website Design=20\\r\\n                                               =20\\r\\n                                           =20\\r\\n                                        \\r\\n                                            =E2=82=B91621 - =E2=82=B93242 I=\\r\\nNR /hr\\r\\n                                        =C2=A0\\r\\n                                                        Bid now\\r\\n                                                    <=\\r\\n/td>M=\\r\\nobile development\\r\\n\\r\\n                                        =C2=A0\\r\\n\\r\\n                                       =20\\r\\n                                       =20\\r\\n                                       =20\\r\\n                                       =20\\r\\n                                       =20\\r\\n                                       =20\\r\\n\\r\\n                                        =C2=A0\\r\\n                                            I need a responsive website.  I=\\r\\n would like it designed and built.  Hi This is Manjunath and I am in IT  fi=\\r\\neld and I am planning to do some  online business and I am looking e-commer=\\r\\nce and Mobil  Aap programer\\r\\n                                           =20\\r\\n                                        =C2=A0Skills:\\r\\n\\r\\n                                           =20\\r\\n                                               =20\\r\\n                                                    HTML  |=20\\r\\n                                               =20\\r\\n                                                    Mobile App Development=\\r\\n=20\\r\\n                                               =20\\r\\n                                           =20\\r\\n                                        \\r\\n                                            =E2=82=B912500 - =E2=82=B937500=\\r\\n INR=20\\r\\n                                        =C2=A0\\r\\n                                                        Bid now\\r\\n                                                    <=\\r\\n/td>E-Co=\\r\\nmmerce Website\\r\\n\\r\\n                                        =C2=A0\\r\\n\\r\\n                                       =20\\r\\n                                       =20\\r\\n                                       =20\\r\\n                                       =20\\r\\n                                       =20\\r\\n                                       =20\\r\\n\\r\\n                                        =C2=A0\\r\\n                                            Responsive website with payment=\\r\\n integration, live chat, inventory management, Fast search response, Billin=\\r\\ng from website.  bidder should have already develop running ecommerce websi=\\r\\nte for getting reference of his work\\r\\n                                           =20\\r\\n                                        =C2=A0Skills:\\r\\n\\r\\n                                           =20\\r\\n                                               =20\\r\\n                                                    eCommerce  |=20\\r\\n                                               =20\\r\\n                                                    Graphic Design  |=20\\r\\n                                               =20\\r\\n                                                    HTML  |=20\\r\\n                                               =20\\r\\n                                                    PHP  |=20\\r\\n                                               =20\\r\\n                                                    Website Design=20\\r\\n                                               =20\\r\\n                                           =20\\r\\n                                        \\r\\n                                            =E2=82=B912500 - =E2=82=B937500=\\r\\n INR=20\\r\\n                                        =C2=A0\\r\\n                                                        Bid now\\r\\n                                                    <=\\r\\n/td>=\\r\\nAdd website buttons that will create multiple icons on Google map.\\r\\n\\r\\n                                        =C2=A0\\r\\n\\r\\n                                       =20\\r\\n                                       =20\\r\\n                                       =20\\r\\n                                       =20\\r\\n                                       =20\\r\\n                                       =20\\r\\n\\r\\n                                        =C2=A0\\r\\n                                            My website has a page called, =\\r\\n=E2=80=9CMy Favorites,=E2=80=9D when someone clicks on a heart-shaped icon =\\r\\nin search results it will save to their, =E2=80=9CFavorites=E2=80=9D page. =\\r\\n   When they look at their, =E2=80=9CFavorites=E2=80=9D page they can choos=\\r\\ne to click on\\r\\n                                           =20\\r\\n                                                ...\\r\\n                                                \\r\\n                                                    See more\\r\\n                                                =C2=A0Skills:\\r\\n\\r\\n                                           =20\\r\\n                                               =20\\r\\n                                                    CSS  |=20\\r\\n                                               =20\\r\\n                                                    HTML  |=20\\r\\n                                               =20\\r\\n                                                    Javascript  |=20\\r\\n                                               =20\\r\\n                                                    PHP  |=20\\r\\n                                               =20\\r\\n                                                    WordPress=20\\r\\n                                               =20\\r\\n                                           =20\\r\\n                                        \\r\\n                                            =E2=82=B9648 - =E2=82=B91945 IN=\\r\\nR=20\\r\\n                                        =C2=A0\\r\\n                                                        Bid now\\r\\n                                                    <=\\r\\n/td>Special project for Smart T. -- To make a fully functioning copy of a webs=\\r\\nite\\r\\n\\r\\n                                        =C2=A0\\r\\n\\r\\n                                       =20\\r\\n                                       =20\\r\\n                                       =20\\r\\n                                       =20\\r\\n                                       =20\\r\\n                                       =20\\r\\n\\r\\n                                        =C2=A0\\r\\n                                            As previously agreed, Smart T. =\\r\\nwill make a fully functioning copy of [url removed, login to view]    All d=\\r\\netails are in the chat logs, in case of dispute.    Please, only Smart T. s=\\r\\nhould apply with the same bid as before.\\r\\n                                           =20\\r\\n                                        =C2=A0Skills:\\r\\n\\r\\n                                           =20\\r\\n                                               =20\\r\\n                                                    CSS  |=20\\r\\n                                               =20\\r\\n                                                    Graphic Design  |=20\\r\\n                                               =20\\r\\n                                                    HTML  |=20\\r\\n                                               =20\\r\\n                                                    PHP  |=20\\r\\n                                               =20\\r\\n                                                    Website Design=20\\r\\n                                               =20\\r\\n                                           =20\\r\\n                                        \\r\\n                                            =E2=82=B916211 - =E2=82=B948634=\\r\\n INR=20\\r\\n                                        =C2=A0\\r\\n                                                        Bid now\\r\\n                                                    <=\\r\\n/td>gui=\\r\\nde us to chose the theam we want and arrange the position of functions.\\r\\n\\r\\n                                        =C2=A0\\r\\n\\r\\n                                       =20\\r\\n                                       =20\\r\\n                                       =20\\r\\n                                       =20\\r\\n                                       =20\\r\\n                                       =20\\r\\n\\r\\n                                        =C2=A0\\r\\n                                            Hi we have wordpress account an=\\r\\nd domain from godaddy ,but we are freshman for wordpress .we want to build =\\r\\na online store with wordpress . but we want to try it by ourself ,we are no=\\r\\nt familer with the back of wordpress fu\\r\\n                                           =20\\r\\n                                                ...\\r\\n                                                \\r\\n                                                    See more\\r\\n                                                =C2=A0Skills:\\r\\n\\r\\n                                           =20\\r\\n                                               =20\\r\\n                                                    eCommerce  |=20\\r\\n                                               =20\\r\\n                                                    HTML  |=20\\r\\n                                               =20\\r\\n                                                    PHP  |=20\\r\\n                                               =20\\r\\n                                                    Website Design  |=20\\r\\n                                               =20\\r\\n                                                    WordPress=20\\r\\n                                               =20\\r\\n                                           =20\\r\\n                                        \\r\\n                                            =E2=82=B9668 - =E2=82=B91182 IN=\\r\\nR /hr\\r\\n                                        =C2=A0\\r\\n                                                        Bid now\\r\\n                                                    <=\\r\\n/td>Upgrading Magento ver 1.9.1.0 to Latest Version\\r\\n\\r\\n                                        =C2=A0\\r\\n\\r\\n                                       =20\\r\\n                                       =20\\r\\n                                       =20\\r\\n                                       =20\\r\\n                                       =20\\r\\n                                       =20\\r\\n\\r\\n                                        =C2=A0\\r\\n                                            Need to Upgrade Magento ver 1.9=\\r\\n.1.0 to the Latest Version and need to auto invoice after payment is confir=\\r\\nmed.\\r\\n                                           =20\\r\\n                                        =C2=A0Skills:\\r\\n\\r\\n                                           =20\\r\\n                                               =20\\r\\n                                                    eCommerce  |=20\\r\\n                                               =20\\r\\n                                                    HTML  |=20\\r\\n                                               =20\\r\\n                                                    Magento  |=20\\r\\n                                               =20\\r\\n                                                    MySQL  |=20\\r\\n                                               =20\\r\\n                                                    PHP=20\\r\\n                                               =20\\r\\n                                           =20\\r\\n                                        \\r\\n                                            =E2=82=B9400 - =E2=82=B9750 INR=\\r\\n /hr\\r\\n                                        =C2=A0\\r\\n                                                        Bid now\\r\\n                                                    <=\\r\\n/td>i=\\r\\nmage editor using  js framework\\r\\n\\r\\n                                        =C2=A0\\r\\n\\r\\n                                       =20\\r\\n                                       =20\\r\\n                                       =20\\r\\n                                       =20\\r\\n                                       =20\\r\\n                                       =20\\r\\n\\r\\n                                        =C2=A0\\r\\n                                            hello, we need an image editor =\\r\\nusing different js framework.    we need an image editor like \"crello =\\r\\n dot com\". image editor functionality.  user log in and log out not re=\\r\\nquired. we need that editor functionality.    bef\\r\\n                                           =20\\r\\n                                                ...\\r\\n                                                \\r\\n                                                    See more\\r\\n                                                =C2=A0Skills:\\r\\n\\r\\n                                           =20\\r\\n                                               =20\\r\\n                                                    CSS  |=20\\r\\n                                               =20\\r\\n                                                    HTML  |=20\\r\\n                                               =20\\r\\n                                                    Javascript  |=20\\r\\n                                               =20\\r\\n                                                    jQuery / Prototype  |=\\r\\n=20\\r\\n                                               =20\\r\\n                                                    PHP=20\\r\\n                                               =20\\r\\n                                           =20\\r\\n                                        \\r\\n                                            =E2=82=B91945 - =E2=82=B916211 =\\r\\nINR=20\\r\\n                                        =C2=A0\\r\\n                                                        Bid now\\r\\n                                                    <=\\r\\n/td>s=\\r\\nocial network site\\r\\n\\r\\n                                        =C2=A0\\r\\n\\r\\n                                       =20\\r\\n                                       =20\\r\\n                                       =20\\r\\n                                       =20\\r\\n                                       =20\\r\\n                                       =20\\r\\n\\r\\n                                        =C2=A0\\r\\n                                            I want to have a niche social n=\\r\\network site created for fans of Smooth Jazz. his site must be membership-dr=\\r\\niven with areas to disccus, share photos, music, and an online radio statio=\\r\\nn directory\\r\\n                                           =20\\r\\n                                        =C2=A0Skills:\\r\\n\\r\\n                                           =20\\r\\n                                               =20\\r\\n                                                    Graphic Design  |=20\\r\\n                                               =20\\r\\n                                                    HTML  |=20\\r\\n                                               =20\\r\\n                                                    PHP  |=20\\r\\n                                               =20\\r\\n                                                    Website Design  |=20\\r\\n                                               =20\\r\\n                                                    WordPress=20\\r\\n                                               =20\\r\\n                                           =20\\r\\n                                        \\r\\n                                            =E2=82=B948634 - =E2=82=B997268=\\r\\n INR=20\\r\\n                                        =C2=A0\\r\\n                                                        Bid now\\r\\n                                                    <=\\r\\n/td>Run Van Westendorp Analysis\\r\\n\\r\\n                                        =C2=A0\\r\\n\\r\\n                                       =20\\r\\n                                       =20\\r\\n                                       =20\\r\\n                                       =20\\r\\n                                       =20\\r\\n                                       =20\\r\\n\\r\\n                                        =C2=A0\\r\\n                                            I have 6-7 responses on accordi=\\r\\nng to the van Westerndorp analysis that I would like plotted. Also, I\\'d=\\r\\n like the PMC, PME, OPP and IPP points to be clear.\\r\\n                                           =20\\r\\n                                        =C2=A0Skills:\\r\\n\\r\\n                                           =20\\r\\n                                               =20\\r\\n                                                    Data Processing  |=20\\r\\n                                               =20\\r\\n                                                    Mathematics  |=20\\r\\n                                               =20\\r\\n                                                    SPSS Statistics  |=20\\r\\n                                               =20\\r\\n                                                    Statistical Analysis  |=\\r\\n=20\\r\\n                                               =20\\r\\n                                                    Statistics=20\\r\\n                                               =20\\r\\n                                           =20\\r\\n                                        \\r\\n                                            =E2=82=B9639 - =E2=82=B92396 IN=\\r\\nR=20\\r\\n                                        =C2=A0\\r\\n                                                        Bid now\\r\\n                                                    <=\\r\\n/td>Design my Shopify Store\\r\\n\\r\\n                                        =C2=A0\\r\\n\\r\\n                                       =20\\r\\n                                       =20\\r\\n                                       =20\\r\\n                                       =20\\r\\n                                       =20\\r\\n                                       =20\\r\\n\\r\\n                                        =C2=A0\\r\\n                                            I need someone to come up with =\\r\\nan amazing design for my shopify store, I have about 7 themes that you coul=\\r\\nd choose from however if you have your own and you feel it would work bette=\\r\\nr, I would prefer you use that , the st\\r\\n                                           =20\\r\\n                                                ...\\r\\n                                                \\r\\n                                                    See more\\r\\n                                                =C2=A0Skills:\\r\\n\\r\\n                                           =20\\r\\n                                               =20\\r\\n                                                    eCommerce  |=20\\r\\n                                               =20\\r\\n                                                    Graphic Design  |=20\\r\\n                                               =20\\r\\n                                                    HTML  |=20\\r\\n                                               =20\\r\\n                                                    Shopify  |=20\\r\\n                                               =20\\r\\n                                                    Website Design=20\\r\\n                                               =20\\r\\n                                           =20\\r\\n                                        \\r\\n                                            =E2=82=B91833 - =E2=82=B922914 =\\r\\nINR=20\\r\\n                                        =C2=A0\\r\\n                                                        Bid now\\r\\n                                                    <=\\r\\n/td>Add datepickers to my Woocommerce product\\r\\n\\r\\n                                        =C2=A0\\r\\n\\r\\n                                       =20\\r\\n                                       =20\\r\\n                                       =20\\r\\n                                       =20\\r\\n                                       =20\\r\\n                                       =20\\r\\n\\r\\n                                        =C2=A0\\r\\n                                            I am creating a flight booking =\\r\\nproduct using Woocommerce. I just need to add \"departing\" datepic=\\r\\nker and \"arriving\" datepicker.    Need it done quickly.\\r\\n                                           =20\\r\\n                                        =C2=A0Skills:\\r\\n\\r\\n                                           =20\\r\\n                                               =20\\r\\n                                                    CSS  |=20\\r\\n                                               =20\\r\\n                                                    HTML  |=20\\r\\n                                               =20\\r\\n                                                    PHP  |=20\\r\\n                                               =20\\r\\n                                                    WooCommerce  |=20\\r\\n                                               =20\\r\\n                                                    WordPress=20\\r\\n                                               =20\\r\\n                                           =20\\r\\n                                        \\r\\n                                            =E2=82=B9500 - =E2=82=B91499 IN=\\r\\nR=20\\r\\n                                        =C2=A0\\r\\n                                                        Bid now\\r\\n                                                    <=\\r\\n/td>Assembly language expert needed - 09/04/2018 10:50 EDT\\r\\n\\r\\n                                        =C2=A0\\r\\n\\r\\n                                       =20\\r\\n                                       =20\\r\\n                                       =20\\r\\n                                       =20\\r\\n                                       =20\\r\\n                                       =20\\r\\n\\r\\n                                        =C2=A0\\r\\n                                            need an assembly level expert  =\\r\\nyou will use ARMv8 single precision floating point arithmetic.  1. Write a =\\r\\nprogram in ARMv8 which finds the  median among n numbers stored in an array=\\r\\n. Return median in S3.\\r\\n                                           =20\\r\\n                                        =C2=A0Skills:\\r\\n\\r\\n                                           =20\\r\\n                                               =20\\r\\n                                                    Assembly  |=20\\r\\n                                               =20\\r\\n                                                    C Programming  |=20\\r\\n                                               =20\\r\\n                                                    Electronics  |=20\\r\\n                                               =20\\r\\n                                                    Java  |=20\\r\\n                                               =20\\r\\n                                                    x86/x64 Assembler=20\\r\\n                                               =20\\r\\n                                           =20\\r\\n                                        \\r\\n                                            =E2=82=B9100 - =E2=82=B9400 INR=\\r\\n /hr\\r\\n                                        =C2=A0\\r\\n                                                        Bid now\\r\\n                                                    <=\\r\\n/td>Pr=\\r\\noject for Ossama R. -- 2\\r\\n\\r\\n                                        =C2=A0\\r\\n\\r\\n                                       =20\\r\\n                                       =20\\r\\n                                       =20\\r\\n                                       =20\\r\\n                                       =20\\r\\n                                       =20\\r\\n\\r\\n                                        =C2=A0\\r\\n                                            Hi Ossama R., I noticed your pr=\\r\\nofile and would like to offer you my project. We can discuss any details ov=\\r\\ner chat.\\r\\n                                           =20\\r\\n                                        =C2=A0Skills:\\r\\n\\r\\n                                           =20\\r\\n                                               =20\\r\\n                                                    Hire me  |=20\\r\\n                                               =20\\r\\n                                                    HTML  |=20\\r\\n                                               =20\\r\\n                                                    Javascript  |=20\\r\\n                                               =20\\r\\n                                                    MySQL  |=20\\r\\n                                               =20\\r\\n                                                    PHP  |=20\\r\\n                                               =20\\r\\n                                                    Website Design=20\\r\\n                                               =20\\r\\n                                           =20\\r\\n                                        \\r\\n                                            =E2=82=B916211 INR=20\\r\\n                                        =C2=A0\\r\\n                                                        Bid now\\r\\n                                                    <=\\r\\n/td>Some =\\r\\nedits on Landing Page\\r\\n\\r\\n                                        =C2=A0\\r\\n\\r\\n                                       =20\\r\\n                                       =20\\r\\n                                       =20\\r\\n                                       =20\\r\\n                                       =20\\r\\n                                       =20\\r\\n\\r\\n                                        =C2=A0\\r\\n                                            Adding buttons, Popup Messages =\\r\\netc\\r\\n                                           =20\\r\\n                                        =C2=A0Skills:\\r\\n\\r\\n                                           =20\\r\\n                                               =20\\r\\n                                                    CSS  |=20\\r\\n                                               =20\\r\\n                                                    HTML=20\\r\\n                                               =20\\r\\n                                           =20\\r\\n                                        \\r\\n                                            =E2=82=B9648 - =E2=82=B91945 IN=\\r\\nR=20\\r\\n                                        =C2=A0\\r\\n                                                        Bid now\\r\\n                                                    <=\\r\\n/td>\\r\\n                                    View more jobs matching your skills!\\r\\n                                    \\r\\n                        Regards,\\r\\n                    \\r\\n                        The Freelancer Team.\\r\\n                    =\\r\\n\\r\\n                                        =C2=A9 2018 Freelancer Technology P=\\r\\nty Limited. All Rights Reserved.                    \\r\\n                    Level 20, 680 George Street, Sydney, NSW 2000, Australi=\\r\\na                  <=\\r\\n/tr>Privacy Policy |\\r\\n                    Terms and Conditions |\\r\\n                    Unsubscribe |\\r\\n                    Get Support=\\r\\n=\\r\\n=C2=A0\\r\\n                        =C2=A0\\r\\n                        =C2=A0\\r\\n                        =C2=A0\\r\\n                      Download our mobile app\\n', 'Subject Fwd: We guarantee placements if you enroll with us! \\nRakesh\\n---------- Forwarded message ----------From:=\\r\\n \"IIBM\" <notes@salekode.=\\r\\ncom>Date: 13 Apr 2018 12:20 pmSubject: We guarantee placemen=\\r\\nts if you enroll with us!To:  <Rakeshg679@gmail.com>Cc: \\n\\n=C2=A0\\n\\n\\n\\n\\n\\n\\n\\n\\n\\n\\n=C2=A0\\n\\n\\n=\\r\\n\\n\\n\\n=C2=A0\\n\\n\\n Award Winning Distance Lea=\\r\\nrning Programs: \\n\\n\\n\\n\\nPG M=\\r\\nanagement Programs - 2 years\\nExec=\\r\\nutive Master Program - 1 Year\\nDipl=\\r\\noma Management Programs - 1 year\\nCert=\\r\\nificate Management Programs - 6 months\\n\\n\\n\\n\\n=C2=A0\\n\\n\\n Why Choose IIBM Institute?=\\r\\n \\n\\n\\n\\n\\n100%=\\r\\n Placement Assistance\\nFlex=\\r\\nible Fee Payment with EMI options\\nHigh=\\r\\ner Salary Growth and Promotion opportunity\\nOnli=\\r\\nne Lectures with study material in hard & soft format\\nAwar=\\r\\nded by \\'World Education Award\\' & \\'Indian Congress 2017\\'=\\r\\n\\nIIBM=\\r\\n Institute is Associate Trainer Partner of MSME, TUV, IPMA UK\\nPref=\\r\\nerred by DELL, ICICI BANK, INFOSYS, WIPRO, RELIANCE employees \\n\\n\\n\\n\\n\\n\\n\\n\\n\\nEnquire Now =E2=80=BA=E2=80=BA\\n\\n\\n\\n\\n\\n\\n\\n=C2=A0\\n\\n\\n\\n\\n\\n\\n\\n\\n\\n\\n<=\\r\\nspan style=3D\"text-decoration:underline\">=\\r\\nUnlist=EF=BB=BF\\n\\n\\n\\n\\n', 'Subject Fwd: Hi, No annual fee, no joining fee* on Platinum Rewards CreditCard! \\nRakesh\\n---------- Forwarded message ----------From:=\\r\\n \"Standard Chartered Credit Card\" <notes@salekode.com>Date: 13 Apr 2018 12:37 pmSubj=\\r\\nect: Hi, No annual fee, no joining fee* on Platinum Rewards CreditCard!=\\r\\nTo:  <Rakeshg679@gmail.com&g;=\\r\\nt;Cc: \\n\\n=C2=A0\\n\\n\\n\\n\\n\\n\\n\\n\\n\\n\\n<=\\r\\nspan style=3D\"text-decoration:underline\">=\\r\\nUnlist=EF=BB=BF\\n\\n\\n\\n\\n', 'Subject The Biggest Machine Learning Hackathon of 2018 by Credit Suisse \\n\\n\\n\\r\\n@media only screen and (max-width: 767px) {\\r\\ntable.devicewidth-color {\\r\\n\\twidth: 565px!important;\\r\\n\\ttext-align: center!important;\\r\\n}\\r\\ntable.devicewidth-inner {\\r\\n\\twidth: 545px!important;\\r\\n\\ttext-align: center!important;\\r\\n}\\r\\ntable.devicewidth {\\r\\n\\twidth: 535px!important;\\r\\n\\ttext-align: center!important;\\r\\n}\\r\\n.color-border {\\r\\n\\theight: 20px!important;\\r\\n}\\r\\nimg.responsive-image {\\r\\n\\twidth: 100% !important;\\r\\n}\\r\\n.heading1 {\\r\\n\\tfont-size: 22px !important;\\r\\n\\tline-height: 28px !important\\r\\n}\\r\\n.text1 {\\r\\n\\tfont-size: 17px !important;\\r\\n\\tline-height: 20px !important;\\r\\n}\\r\\n\\r\\n.text3 {\\r\\n\\ttext-align: justify !important;\\r\\n}\\r\\n.height1 {\\r\\n\\theight: 15px !important;\\r\\n}\\r\\n.auto-height {\\r\\n\\theight: auto !important;\\r\\n}\\r\\n.header-space {\\r\\n\\theight: 35px !important;\\r\\n\\ttext-align: left !important;\\r\\n\\tvertical-align: top !important;\\r\\n}\\r\\n.hidden-mobile {\\r\\n\\tdisplay: none !important;\\r\\n}\\r\\n.calender {\\r\\n\\ttext-align: left !important;\\r\\n}\\r\\n.small-height {\\r\\n\\theight: 15px !important;\\r\\n}\\r\\n.no-border {\\r\\n\\tborder: none !important;\\r\\n}\\r\\n.partner-image {\\r\\n\\twidth: 300px !important;\\r\\n}\\r\\n}\\r\\n @media only screen and (max-width: 480px) {\\r\\ntable.devicewidth-color {\\r\\n\\twidth: 320px!important;\\r\\n\\ttext-align: center!important;\\r\\n}\\r\\ntable.devicewidth-inner {\\r\\n\\twidth: 300px!important;\\r\\n\\ttext-align: center!important;\\r\\n}\\r\\ntable.devicewidth {\\r\\n\\twidth: 280px!important;\\r\\n\\ttext-align: center!important;\\r\\n}\\r\\n.color-border {\\r\\n\\theight: 20px!important;\\r\\n}\\r\\n.calender {\\r\\n\\ttext-align: center !important;\\r\\n}\\r\\n}\\r\\n\\n\\n\\n\\n\\n\\n\\n\\n\\n\\n\\xa0\\n\\n\\n\\n\\n\\n\\n\\n\\n\\n\\n\\xa0  \\n\\n\\n\\n\\n\\n\\n\\n\\n\\xa0\\n\\n\\n20 Mar - 15 May, 2018\\n\\n\\n\\n\\n\\n\\n\\n\\xa0\\n\\n\\n\\n\\n\\n\\n\\n\\xa0\\n\\n\\n\\n\\xa0\\n\\n\\nCode Gladiators 2018\\n\\n\\nCredit Suisse - Machine Learning Hackathon \\n\\n\\n\\xa0\\n\\n\\n\\n\\xa0\\n\\n\\n\\n\\n\\n\\n\\n\\xa0\\n\\n\\nHi SHIVAM SRIVASTAVA\\n\\n\\n\\xa0\\n\\n\\nTechGig is pleased to inform that you have been selected as one of the Potential Machine Learning Developer in our community. So, here is one golden opportunity for you to grab prizes worth Rs. 3 Lakhs and get recognition at international level.\\n\\n\\xa0\\n\\n\\n\\n\\n\\nParticipate Now\\n\\n\\n\\n\\nOver 2 Lakhs+ Developers are going to participate. Your journey starts now!!\\n\\n\\xa0\\n\\n\\nQuestion: In which analysis, the value of an attribute is examined on the basis of its variation over time?\\r\\n\\nPrediction\\r\\n Time-series analysis\\r\\nSequence discovery\\r\\n Regression\\r\\n\\n\\n\\nAwards & Recognition\\n\\n\\n\\xa0\\n\\n\\n\\n\\xa0\\n\\n\\nPrizes worth 3 Lakhs to be won \\n\\n\\n\\xa0\\n\\n\\n\\n\\n\\n\\n\\n\\xa0\\n\\n\\nHackathon Winner \\n\\n\\n\\xa0\\n\\n\\nRs 1,50,000 \\n\\n\\n\\xa0\\n\\n\\n\\n\\n\\n\\n\\xa0\\n\\n\\nHackathon 1st Runner-Up \\n\\n\\n\\xa0\\n\\n\\nRs 1,00,000 \\n\\n\\n\\xa0\\n\\n\\n\\n\\n\\n\\n\\xa0\\n\\n\\nHackathon 2nd Runner-Up \\n\\n\\n\\xa0\\n\\n\\nRs 50,000 \\n\\n\\n\\xa0\\n\\n\\n\\n\\n\\n\\n\\xa0\\n\\n\\nHere\\'s why you must participate\\n\\n\\n\\xa0\\n\\n\\n\\n\\n\\n\\n\\n\\n\\n\\n\\n\\nGet Recognition at International Level\\n\\n\\nGet recognized as \"The Best Machine Learning Expert\" at international level\\n\\n\\n\\n\\xa0\\n\\n\\xa0\\n\\n\\n\\n\\n\\n\\n\\n\\n\\n\\n\\n\\n\\xa0\\n\\n\\n20+ Companies Participating\\n\\n\\n20+ companies are participating in\\r\\nCode Gladiators 2018\\n\\n\\n\\n\\n\\n\\n\\n\\n\\n\\n\\xa0\\n\\n\\n\\n\\n\\n\\n\\n\\n\\n\\n\\n\\nWin Attractive Prizes\\n\\n\\nWin attractive prizes worth more than Rs. 3 Lakhs and many other prizes\\n\\n\\n\\n\\xa0\\n\\n\\xa0\\n\\n\\n\\n\\n\\n\\n\\n\\n\\n\\n\\n\\n\\xa0\\n\\n\\nInterview Opportunity\\n\\n\\nYou might earn an interview opportunity from any of the participating companies\\n\\n\\n\\n\\n\\n\\n\\n\\n\\n\\n\\xa0\\n\\n\\n\\n\\xa0\\n\\n\\n\\n\\n\\nParticipate Now \\n\\n\\n\\n\\n\\n\\xa0\\n\\n\\nHappy CodingTeam TechGig\\n\\n\\n\\xa0\\n\\n\\n\\n\\n\\n\\n\\n\\n\\n\\n\\xa0\\n\\n\\n\\n\\n\\xa0\\n\\n\\n2018 TechGig   |  Terms of Use   |  Contact Us\\nTechGig.com (Times Center), FC - 6, Sector 16 A, Film City, Noida - 201301, Uttar Pradesh, India \\n\\n\\n\\xa0\\n\\n\\n\\n\\nSpread words about Techgig\\n\\n\\n\\xa0\\n\\n\\n  \\n\\n\\n\\n\\n\\n\\n\\xa0\\n\\n\\n\\xa0\\n\\n\\nNote: For your privacy and protection, please do not forward this mail to anyone as it allows you to get automatically logged into your account. If you do not want to receive this mailer, unsubscribe. To make sure this email is not sent to your \"junk/bulk\" folder,select \"Add/save to Address Book\" in your email browser and follow the appropriate instructions.\\n\\n\\n\\xa0\\n\\n\\n\\xa0\\n\\n\\n\\n\\n\\n\\n\\n']\n"
     ]
    }
   ],
   "source": [
    "msg_list = []\n",
    "for item in inbox_item_list:\n",
    "    result2 ,  email_data = mail.uid('fetch', item, '(RFC822)')\n",
    "    raw_email = email_data[0][1].decode(\"utf-8\").strip()\n",
    "    email_message = email.message_from_string(raw_email)\n",
    "    to_ = email_message['From']\n",
    "    from_ = email_message['To']\n",
    "    subject_ = email_message['Subject']\n",
    "    counter = 1\n",
    "\n",
    "    for part in email_message.walk():\n",
    "        # if part.get_content_maintype() == \"multipart\":\n",
    "        #     continue\n",
    "        # filename = part.get_filename()\n",
    "        # if not filename:\n",
    "        #     ext = '.html'\n",
    "        #     filename = 'msg-part-%08d%s' % (counter, ext)\n",
    "        # counter += 1\n",
    "        content_type = part.get_content_type()\n",
    "        # if \"plain\" in content_type:\n",
    "        #     # print(part.get_payload())\n",
    "        #     pass\n",
    "        # elif \"html\" in content_type:\n",
    "        if \"html\" in content_type:\n",
    "            html_ = part.get_payload()\n",
    "            soup = BeautifulSoup(html_, \"html.parser\")\n",
    "            text = soup.get_text()\n",
    "            text = \"Subject \" + subject_ + \" \" + text\n",
    "            msg_list.append(text)\n",
    "            # pass\n",
    "        else:\n",
    "            pass\n",
    "print(msg_list)"
   ]
  },
  {
   "cell_type": "code",
   "execution_count": 23,
   "metadata": {},
   "outputs": [
    {
     "name": "stdout",
     "output_type": "stream",
     "text": [
      "Message 1 is : spam\n",
      "Message 2 is : spam\n",
      "Message 3 is : ham\n",
      "Message 4 is : spam\n",
      "Message 5 is : spam\n",
      "Message 6 is : ham\n",
      "Message 7 is : spam\n",
      "Message 8 is : spam\n",
      "Message 9 is : spam\n",
      "Message 10 is : ham\n",
      "Message 11 is : spam\n"
     ]
    }
   ],
   "source": [
    "\n",
    "\n",
    "count = 1\n",
    "for msg in msg_list:\n",
    "    words = word_tokenize(msg)\n",
    "    features = create_word_features(words)\n",
    "    template = \"Message \" + str(count) + \" is :\"\n",
    "    print(template ,classifier.classify(features))\n",
    "    count += 1"
   ]
  },
  {
   "cell_type": "code",
   "execution_count": null,
   "metadata": {},
   "outputs": [],
   "source": []
  },
  {
   "cell_type": "markdown",
   "metadata": {},
   "source": [
    "### Rough Work"
   ]
  },
  {
   "cell_type": "code",
   "execution_count": null,
   "metadata": {},
   "outputs": [],
   "source": []
  },
  {
   "cell_type": "code",
   "execution_count": null,
   "metadata": {},
   "outputs": [],
   "source": []
  },
  {
   "cell_type": "code",
   "execution_count": null,
   "metadata": {},
   "outputs": [],
   "source": []
  },
  {
   "cell_type": "code",
   "execution_count": null,
   "metadata": {},
   "outputs": [],
   "source": []
  },
  {
   "cell_type": "code",
   "execution_count": null,
   "metadata": {},
   "outputs": [],
   "source": []
  },
  {
   "cell_type": "code",
   "execution_count": null,
   "metadata": {},
   "outputs": [],
   "source": []
  },
  {
   "cell_type": "code",
   "execution_count": null,
   "metadata": {},
   "outputs": [],
   "source": []
  },
  {
   "cell_type": "code",
   "execution_count": null,
   "metadata": {},
   "outputs": [],
   "source": []
  },
  {
   "cell_type": "code",
   "execution_count": null,
   "metadata": {},
   "outputs": [],
   "source": [
    "import imaplib\n",
    "import email\n",
    "from bs4 import BeautifulSoup\n",
    "\n",
    "username = 'er3shivam@gmail.com'\n",
    "password = 'hello\"world'\n",
    "\n",
    "mail = imaplib.IMAP4_SSL(\"imap.gmail.com\")\n",
    "mail.login(username,password)\n",
    "mail.select(\"inbox\")\n",
    "\n",
    "result,data = mail.uid('search', None, \"ALL\")\n",
    "# >>> data\n",
    "# [b'10584 10622 10635']\n",
    "\n",
    "inbox_item_list = data[0].split()\n",
    "\n",
    "most_recent = inbox_item_list[-1]\n",
    "oldest = inbox_item_list[0]\n",
    "\n",
    "# print(inbox_item_list) # contains id\n",
    "msg_list = []\n",
    "for item in inbox_item_list:\n",
    "    result2 ,  email_data = mail.uid('fetch', item, '(RFC822)')\n",
    "    raw_email = email_data[0][1].decode(\"utf-8\").strip()\n",
    "    email_message = email.message_from_string(raw_email)\n",
    "    to_ = email_message['From']\n",
    "    from_ = email_message['To']\n",
    "    subject_ = email_message['Subject']\n",
    "    counter = 1\n",
    "\n",
    "    for part in email_message.walk():\n",
    "        # if part.get_content_maintype() == \"multipart\":\n",
    "        #     continue\n",
    "        # filename = part.get_filename()\n",
    "        # if not filename:\n",
    "        #     ext = '.html'\n",
    "        #     filename = 'msg-part-%08d%s' % (counter, ext)\n",
    "        # counter += 1\n",
    "        content_type = part.get_content_type()\n",
    "        # if \"plain\" in content_type:\n",
    "        #     # print(part.get_payload())\n",
    "        #     pass\n",
    "        # elif \"html\" in content_type:\n",
    "        if \"html\" in content_type:\n",
    "            html_ = part.get_payload()\n",
    "            soup = BeautifulSoup(html_, \"html.parser\")\n",
    "            text = soup.get_text()\n",
    "            text = \"Subject \" + subject_ + \" \" + text\n",
    "            msg_list.append(text)\n",
    "            # pass\n",
    "        else:\n",
    "            pass\n",
    "print(msg_list)\n",
    "\n",
    "\n",
    "#___________________________________\n",
    "#Detecting spam or not\n",
    "\n",
    "\n",
    "count = 1\n",
    "for msg in msg_list:\n",
    "    words = word_tokenize(msg)\n",
    "    features = create_word_features(words)\n",
    "    template = \"Message \" + str(count) + \" is :\"\n",
    "    print(template ,classifier.classify(features))\n",
    "    count += 1"
   ]
  }
 ],
 "metadata": {
  "kernelspec": {
   "display_name": "Python 3",
   "language": "python",
   "name": "python3"
  },
  "language_info": {
   "codemirror_mode": {
    "name": "ipython",
    "version": 3
   },
   "file_extension": ".py",
   "mimetype": "text/x-python",
   "name": "python",
   "nbconvert_exporter": "python",
   "pygments_lexer": "ipython3",
   "version": "3.6.4"
  }
 },
 "nbformat": 4,
 "nbformat_minor": 1
}
